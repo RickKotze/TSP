{
 "cells": [
  {
   "cell_type": "markdown",
   "metadata": {},
   "source": [
    "# Rick_TSP"
   ]
  },
  {
   "cell_type": "markdown",
   "metadata": {},
   "source": [
    "Working example of a genetic Travelling Salesman Problem.\n",
    "\n",
    "Rick Comments:\n",
    "- I feel as though I have reached a point of deminishing returns with this project. Although there is still SO much room for improvement, I think that my time would be better spent applying my learning to a new project (I have another optimization problem in mind. It is a replenishment order optimizer for one of my clients, I have already built the tool with Solver in Excel, and I think it is very well suited to Python.)"
   ]
  },
  {
   "cell_type": "code",
   "execution_count": null,
   "metadata": {},
   "outputs": [],
   "source": [
    "import matplotlib.pyplot as plt\n",
    "from rick_tsp import RickTSP"
   ]
  },
  {
   "cell_type": "code",
   "execution_count": null,
   "metadata": {},
   "outputs": [],
   "source": [
    "rick = RickTSP()\n",
    "rick.create_towns(random=1, size=10)\n",
    "rick.generate_population(size=6)\n",
    "rick.generate_TFM()\n",
    "population_fitness = rick.breed(num_gen=500)"
   ]
  },
  {
   "cell_type": "code",
   "execution_count": null,
   "metadata": {},
   "outputs": [],
   "source": [
    "print('Your resulting population is:', rick.population_size)   \n",
    "print('The route lengths associated with your population are:\\n', population_fitness)\n",
    "print('\\nThis plot shows you the distance of the best known route after a given number of itterations')\n",
    "plt.plot(fittest_known)\n",
    "plt.title('Distance of best candidate')\n",
    "plt.ylabel('Distance of tour')\n",
    "plt.xlabel('Number of itterations completed')\n",
    "ax = plt.show"
   ]
  },
  {
   "cell_type": "code",
   "execution_count": null,
   "metadata": {},
   "outputs": [],
   "source": []
  }
 ],
 "metadata": {
  "kernelspec": {
   "display_name": "Python 3",
   "language": "python",
   "name": "python3"
  },
  "language_info": {
   "codemirror_mode": {
    "name": "ipython",
    "version": 3
   },
   "file_extension": ".py",
   "mimetype": "text/x-python",
   "name": "python",
   "nbconvert_exporter": "python",
   "pygments_lexer": "ipython3",
   "version": "3.6.7"
  }
 },
 "nbformat": 4,
 "nbformat_minor": 2
}
