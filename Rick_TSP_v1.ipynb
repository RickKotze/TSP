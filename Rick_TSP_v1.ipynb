{
 "cells": [
  {
   "cell_type": "code",
   "execution_count": null,
   "metadata": {},
   "outputs": [],
   "source": [
    "import matplotlib.pyplot as plt\n",
    "\n",
    "from rick_tsp import *"
   ]
  },
  {
   "cell_type": "markdown",
   "metadata": {},
   "source": [
    "Description:\n",
    "This is the last block of code. It calls all of the above functions in order to solve a TSP, with arguments defined in-line. I still need to package this into a single pretty function, but rather than making it pretty, I have spent my time playing with the code and trying to learn more. I find it easier to leave this as an open block of code while still testing it.\n",
    "      \n",
    "Parameters would be: rand, num_towns, population_size, num_gen, mrate  \n",
    "Returns: would not return anything, but would print out the results.\n",
    "\n",
    "Rick Comments:\n",
    "- I feel as though I have reached a point of deminishing returns with this project. Although there is still SO much room for improvement, I think that my time would be better spent applying my learning to a new project (I have another optimization problem in mind. It is a replenishment order optimizer for one of my clients, I have already built the tool with Solver in Excel, and I think it is very well suited to Python.)"
   ]
  },
  {
   "cell_type": "code",
   "execution_count": null,
   "metadata": {},
   "outputs": [],
   "source": [
    "# Randomly create towns to visit:\n",
    "num_towns=20\n",
    "rand=1\n",
    "Towns_To_Visit=create_towns(rand,num_towns)\n",
    "\n",
    "# generate the To-From Matrix:\n",
    "TFM=generate_TFM()\n",
    "\n",
    "# Create a sample population of appropriate size:\n",
    "population_size=6\n",
    "population=generate_population(population_size)\n",
    "\n",
    "# create a df to track the total distance of the fittest known route\n",
    "fittest_known=pd.DataFrame(index=np.arange(1), columns=np.arange(1))\n",
    "\n",
    "# Breed for the desired number of generations\n",
    "num_gen=500\n",
    "for i in range(num_gen):\n",
    "    # Determine fitness of population:\n",
    "    population_fitness=determine_fitness(population)\n",
    "    # track fittest_known route\n",
    "    fittest_known=fittest_known.append(population_fitness.nsmallest(1,0))\n",
    "    fittest_known=fittest_known.reset_index(drop=True)\n",
    "\n",
    "    # Select Parents to breed with\n",
    "    # The parents are the two fittest individualts in the population\n",
    "    parents_index=population_fitness.nsmallest(2,0).index\n",
    "    parents=population.iloc[parents_index]\n",
    "    # reset index of parents df... I still need to build in some logic to avoid\n",
    "    # having to do this here(or at all...?)\n",
    "    parents=parents.reset_index(drop=True)\n",
    "\n",
    "    # Breed with the parents and mutate their offspring at a desired rate:\n",
    "    mrate=1\n",
    "    breed_and_mutate(mrate)\n",
    "    # in case any of the children are identical to already-existing routes: drop duplicates\n",
    "    population=population.drop_duplicates()\n",
    "    population=population.reset_index(drop=True)\n",
    "\n",
    "\n",
    "    # determine population fittenss for population WITH children\n",
    "    population_fitness=determine_fitness(population)\n",
    "    # now look at the population(with the children included), and get rid of\n",
    "    # the two worst options (i.e. where fitness is longest)\n",
    "    # this is to keep the size of the population constant\n",
    "    winners_index=population_fitness.nsmallest(population_size,0).index\n",
    "    population=population.iloc[winners_index]\n",
    "    #reset index of parents df\n",
    "    population=population.reset_index(drop=True)\n",
    "\n",
    "    \n",
    "# Present results in a nice way\n",
    "print('\\nYour resulting population is:') \n",
    "print(population)    \n",
    "population_fitness=determine_fitness(population)\n",
    "population_fitness.loc[0]='Route length'\n",
    "print('\\nThe route lengths associated with your population are:')\n",
    "print(population_fitness)\n",
    "\n",
    "print('\\nThis plot shows you the distance of the best known route after a given number of itterations')\n",
    "plt.plot(fittest_known)\n",
    "plt.title('Distance of best candidate')\n",
    "plt.ylabel('Distance of tour')\n",
    "plt.xlabel('Number of itterations completed')\n",
    "plt.show"
   ]
  },
  {
   "cell_type": "code",
   "execution_count": null,
   "metadata": {},
   "outputs": [],
   "source": []
  }
 ],
 "metadata": {
  "kernelspec": {
   "display_name": "Python 3",
   "language": "python",
   "name": "python3"
  },
  "language_info": {
   "codemirror_mode": {
    "name": "ipython",
    "version": 3
   },
   "file_extension": ".py",
   "mimetype": "text/x-python",
   "name": "python",
   "nbconvert_exporter": "python",
   "pygments_lexer": "ipython3",
   "version": "3.6.7"
  }
 },
 "nbformat": 4,
 "nbformat_minor": 2
}
